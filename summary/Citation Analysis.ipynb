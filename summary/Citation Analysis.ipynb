{
 "cells": [
  {
   "cell_type": "markdown",
   "metadata": {},
   "source": [
    "# Abstract\n",
    "\n",
    "**Author:** [Charles Tapley Hoyt](https://github.com/cthoyt)\n",
    "\n",
    "This notebook outlines a simple way to explore the citations, authors, and provenance information in a graph and its subgraphs."
   ]
  },
  {
   "cell_type": "markdown",
   "metadata": {},
   "source": [
    "### Notebook Setup"
   ]
  },
  {
   "cell_type": "code",
   "execution_count": 1,
   "metadata": {
    "collapsed": true
   },
   "outputs": [],
   "source": [
    "import itertools as itt\n",
    "import os\n",
    "import time\n",
    "from collections import defaultdict, Counter\n",
    "from operator import itemgetter\n",
    "\n",
    "import pandas as pd\n",
    "import pybel\n",
    "import pybel_tools as pbt\n",
    "\n",
    "from pybel.constants import *"
   ]
  },
  {
   "cell_type": "markdown",
   "metadata": {},
   "source": [
    "### Notebook Provenance\n",
    "\n",
    "The time of execution and the versions of the software packegs used are displayed explicitly."
   ]
  },
  {
   "cell_type": "code",
   "execution_count": 2,
   "metadata": {},
   "outputs": [
    {
     "data": {
      "text/plain": [
       "'Sun Aug 13 14:04:44 2017'"
      ]
     },
     "execution_count": 2,
     "metadata": {},
     "output_type": "execute_result"
    }
   ],
   "source": [
    "time.asctime()"
   ]
  },
  {
   "cell_type": "code",
   "execution_count": 3,
   "metadata": {},
   "outputs": [
    {
     "data": {
      "text/plain": [
       "'0.7.2'"
      ]
     },
     "execution_count": 3,
     "metadata": {},
     "output_type": "execute_result"
    }
   ],
   "source": [
    "pybel.__version__"
   ]
  },
  {
   "cell_type": "code",
   "execution_count": 4,
   "metadata": {},
   "outputs": [
    {
     "data": {
      "text/plain": [
       "'0.1.18-dev'"
      ]
     },
     "execution_count": 4,
     "metadata": {},
     "output_type": "execute_result"
    }
   ],
   "source": [
    "pbt.__version__"
   ]
  },
  {
   "cell_type": "markdown",
   "metadata": {},
   "source": [
    "### Local Path Definitions\n",
    "\n",
    "To make this notebook interoperable across many machines, locations to the repositories that contain the data used in this notebook are referenced from the environment, set in `~/.bashrc` to point to the place where the repositories have been cloned. Assuming the repositories have been `git clone`'d into the `~/dev` folder, the entries in `~/.bashrc` should look like:\n",
    "\n",
    "```bash\n",
    "...\n",
    "export BMS_BASE=~/dev/bms\n",
    "...\n",
    "```\n",
    "\n",
    "#### BMS \n",
    "\n",
    "The biological model store (BMS) is the internal Fraunhofer SCAI repository for keeping BEL models under version control. It can be downloaded from https://tor-2.scai.fraunhofer.de/gf/project/bms/"
   ]
  },
  {
   "cell_type": "code",
   "execution_count": 5,
   "metadata": {
    "collapsed": true
   },
   "outputs": [],
   "source": [
    "bms_base = os.environ[\"BMS_BASE\"]"
   ]
  },
  {
   "cell_type": "markdown",
   "metadata": {},
   "source": [
    "# Data\n",
    "\n",
    "The Alzheimer's Disease Knowledge Assembly has been precompiled with the following command line script, and will be loaded from this format for improved performance. In general, derived data, such as the gpickle representation of a BEL script, are not saved under version control to ensure that the most up-to-date data is always used.\n",
    "\n",
    "```sh\n",
    "pybel convert --path \"$BMS_BASE/aetionomy/alzheimers.bel\" --pickle \"$BMS_BASE/aetionomy/alzheimers.gpickle\"\n",
    "```\n",
    "\n",
    "The BEL script can also be compiled from inside this notebook with the following python code:\n",
    "\n",
    "```python\n",
    ">>> import os\n",
    ">>> import pybel\n",
    ">>> # Input from BEL script\n",
    ">>> bel_path = os.path.join(bms_base, 'aetionomy', 'alzheimers.bel')\n",
    ">>> graph = pybel.from_path(bel_path)\n",
    ">>> # Output to gpickle for fast loading later\n",
    ">>> pickle_path = os.path.join(bms_base, 'aetionomy', 'alzheimers.gpickle')\n",
    ">>> pybel.to_pickle(graph, pickle_path)\n",
    "```"
   ]
  },
  {
   "cell_type": "code",
   "execution_count": 6,
   "metadata": {
    "collapsed": true
   },
   "outputs": [],
   "source": [
    "pickle_path = os.path.join(bms_base, \"aetionomy\", \"alzheimers\", \"alzheimers.gpickle\")"
   ]
  },
  {
   "cell_type": "code",
   "execution_count": 7,
   "metadata": {
    "collapsed": true
   },
   "outputs": [],
   "source": [
    "graph = pybel.from_pickle(pickle_path)"
   ]
  },
  {
   "cell_type": "code",
   "execution_count": 8,
   "metadata": {},
   "outputs": [
    {
     "data": {
      "text/plain": [
       "'3.0.9'"
      ]
     },
     "execution_count": 8,
     "metadata": {},
     "output_type": "execute_result"
    }
   ],
   "source": [
    "graph.version"
   ]
  },
  {
   "cell_type": "markdown",
   "metadata": {},
   "source": [
    "# Provenance Summary\n",
    "\n",
    "## Publication Summary\n",
    "\n",
    "The number of unique referenecs to documents in PubMed can be calculated with [pbt.summary.count_pmids](http://pybel-tools.readthedocs.io/en/latest/summary.html#pybel_tools.summary.count_pmids)"
   ]
  },
  {
   "cell_type": "code",
   "execution_count": 9,
   "metadata": {
    "collapsed": true
   },
   "outputs": [],
   "source": [
    "pmid_counter = pbt.summary.count_pmids(graph)"
   ]
  },
  {
   "cell_type": "markdown",
   "metadata": {},
   "source": [
    "The total number of PubMed references can be readily accessed by the `len()` of the counter output by [pbt.summary.count_pmids](http://pybel-tools.readthedocs.io/en/latest/summary.html#pybel_tools.summary.count_pmids)."
   ]
  },
  {
   "cell_type": "code",
   "execution_count": 10,
   "metadata": {},
   "outputs": [
    {
     "data": {
      "text/plain": [
       "1821"
      ]
     },
     "execution_count": 10,
     "metadata": {},
     "output_type": "execute_result"
    }
   ],
   "source": [
    "len(pmid_counter)"
   ]
  },
  {
   "cell_type": "markdown",
   "metadata": {},
   "source": [
    "The top 15 most informative papers, in terms of number edges contributed, are displayed below."
   ]
  },
  {
   "cell_type": "code",
   "execution_count": 11,
   "metadata": {},
   "outputs": [
    {
     "name": "stdout",
     "output_type": "stream",
     "text": [
      "https://www.ncbi.nlm.nih.gov/pubmed/20847424\t900\n",
      "https://www.ncbi.nlm.nih.gov/pubmed/22496686\t592\n",
      "https://www.ncbi.nlm.nih.gov/pubmed/19885299\t383\n",
      "https://www.ncbi.nlm.nih.gov/pubmed/19519303\t280\n",
      "https://www.ncbi.nlm.nih.gov/pubmed/19499146\t176\n",
      "https://www.ncbi.nlm.nih.gov/pubmed/24262633\t170\n",
      "https://www.ncbi.nlm.nih.gov/pubmed/19734902\t168\n",
      "https://www.ncbi.nlm.nih.gov/pubmed/21711233\t146\n",
      "https://www.ncbi.nlm.nih.gov/pubmed/22110360\t132\n",
      "https://www.ncbi.nlm.nih.gov/pubmed/22862420\t120\n",
      "https://www.ncbi.nlm.nih.gov/pubmed/18675468\t114\n",
      "https://www.ncbi.nlm.nih.gov/pubmed/24332564\t102\n",
      "https://www.ncbi.nlm.nih.gov/pubmed/19515914\t102\n",
      "https://www.ncbi.nlm.nih.gov/pubmed/19419557\t101\n",
      "https://www.ncbi.nlm.nih.gov/pubmed/25681350\t92\n"
     ]
    }
   ],
   "source": [
    "for pmid, count in pmid_counter.most_common(15):\n",
    "    print(\"https://www.ncbi.nlm.nih.gov/pubmed/{}\\t{}\".format(pmid, count))"
   ]
  },
  {
   "cell_type": "markdown",
   "metadata": {},
   "source": [
    "## Citation Enrichment\n",
    "\n",
    "The NCBI eUtils platform is used to look up all PubMed references and enrich information about the authors, publication, volume, page, and title with [pbt.mutation.fix_pubmed_citations](http://pybel-tools.readthedocs.io/en/latest/mutation.html#pybel_tools.mutation.fix_pubmed_citations)."
   ]
  },
  {
   "cell_type": "code",
   "execution_count": 12,
   "metadata": {
    "collapsed": true
   },
   "outputs": [],
   "source": [
    "pbt.mutation.parse_authors(graph)"
   ]
  },
  {
   "cell_type": "code",
   "execution_count": 13,
   "metadata": {},
   "outputs": [
    {
     "name": "stderr",
     "output_type": "stream",
     "text": [
      "WARNING:pybel_tools.mutation.metadata:citations have already been enriched in Alzheimer's Disease Knowledge Assembly v3.0.9\n"
     ]
    },
    {
     "name": "stdout",
     "output_type": "stream",
     "text": [
      "CPU times: user 2.02 ms, sys: 1.08 ms, total: 3.1 ms\n",
      "Wall time: 2.21 ms\n"
     ]
    }
   ],
   "source": [
    "%%time\n",
    "erroneous_pmids = pbt.mutation.fix_pubmed_citations(graph, stringify_authors=False)"
   ]
  },
  {
   "cell_type": "markdown",
   "metadata": {},
   "source": [
    "### Investigation of Errors\n",
    "\n",
    "The erroneous PMIDs are summarized below. The evidence strings can be googled to identify the correct publications for recuration of the original BEL document."
   ]
  },
  {
   "cell_type": "code",
   "execution_count": 14,
   "metadata": {},
   "outputs": [
    {
     "data": {
      "text/plain": [
       "set()"
      ]
     },
     "execution_count": 14,
     "metadata": {},
     "output_type": "execute_result"
    }
   ],
   "source": [
    "erroneous_pmids"
   ]
  },
  {
   "cell_type": "code",
   "execution_count": 15,
   "metadata": {},
   "outputs": [],
   "source": [
    "pmid_evidences = pbt.summary.get_evidences_by_pmid(graph, erroneous_pmids)\n",
    "\n",
    "for pmid in sorted(pmid_evidences):\n",
    "    print(\"https://www.ncbi.nlm.nih.gov/pubmed/{}\".format(pmid))\n",
    "\n",
    "    for evidence in sorted(pmid_evidences[pmid]):\n",
    "        print(\"\\t\", evidence, \"\\n\")"
   ]
  },
  {
   "cell_type": "markdown",
   "metadata": {},
   "source": [
    "## Author Summary\n",
    "\n",
    "The associations between authors and their publications can be summarized with [pbt.summary.count_author_publications](http://pybel-tools.readthedocs.io/en/latest/summary.html#pybel_tools.summary.count_author_publications)."
   ]
  },
  {
   "cell_type": "code",
   "execution_count": 16,
   "metadata": {
    "collapsed": true
   },
   "outputs": [],
   "source": [
    "author_publication_counter = pbt.summary.count_author_publications(graph)"
   ]
  },
  {
   "cell_type": "markdown",
   "metadata": {},
   "source": [
    "The total number of authors can be readily counted by the `len()` of the Counter returned by [pbt.summary.count_author_publications](http://pybel-tools.readthedocs.io/en/latest/summary.html#pybel_tools.summary.count_author_publications)."
   ]
  },
  {
   "cell_type": "code",
   "execution_count": 17,
   "metadata": {},
   "outputs": [
    {
     "data": {
      "text/plain": [
       "9660"
      ]
     },
     "execution_count": 17,
     "metadata": {},
     "output_type": "execute_result"
    }
   ],
   "source": [
    "len(author_publication_counter)"
   ]
  },
  {
   "cell_type": "markdown",
   "metadata": {},
   "source": [
    "The top 35 authors, in terms of the number of publications contributed to the graph, are displayed below."
   ]
  },
  {
   "cell_type": "code",
   "execution_count": 18,
   "metadata": {},
   "outputs": [
    {
     "data": {
      "text/plain": [
       "[('Heneka MT', 20),\n",
       " ('Li Y', 17),\n",
       " ('Wang Y', 16),\n",
       " ('Hyman BT', 16),\n",
       " ('Perry G', 14),\n",
       " ('Smith MA', 14),\n",
       " ('Liu Y', 14),\n",
       " ('Wang X', 14),\n",
       " ('Williams J', 14),\n",
       " ('Lovestone S', 13),\n",
       " ('Love S', 12),\n",
       " ('Zhao Y', 12),\n",
       " ('Mayeux R', 12),\n",
       " ('Farrer LA', 12),\n",
       " ('Holtzman DM', 11),\n",
       " ('Kehoe PG', 11),\n",
       " ('Younkin SG', 11),\n",
       " ('Zhang Y', 11),\n",
       " ('Haass C', 11),\n",
       " ('Zhang J', 11),\n",
       " ('Lambert JC', 11),\n",
       " ('Amouyel P', 11),\n",
       " ('Galimberti D', 11),\n",
       " ('Hardy J', 11),\n",
       " ('Pericak-Vance MA', 11),\n",
       " ('Mattson MP', 10),\n",
       " ('Tan J', 10),\n",
       " ('Koo EH', 10),\n",
       " ('St George-Hyslop P', 10),\n",
       " (\"Alzheimer's Disease Neuroimaging Initiative.\", 10),\n",
       " ('Lukiw WJ', 10),\n",
       " ('Zhu X', 10),\n",
       " ('Harold D', 10),\n",
       " ('Scarpini E', 10),\n",
       " ('Owen MJ', 10)]"
      ]
     },
     "execution_count": 18,
     "metadata": {},
     "output_type": "execute_result"
    }
   ],
   "source": [
    "author_publication_counter.most_common(35)"
   ]
  },
  {
   "cell_type": "markdown",
   "metadata": {},
   "source": [
    "It's also possible to look up the contributions of individual authors using the Counter's dictionary lookup and a simple substring search."
   ]
  },
  {
   "cell_type": "code",
   "execution_count": 19,
   "metadata": {},
   "outputs": [
    {
     "name": "stdout",
     "output_type": "stream",
     "text": [
      "Heneka MT 20\n"
     ]
    }
   ],
   "source": [
    "for author in author_publication_counter:\n",
    "    if \"Heneka\" in author:\n",
    "        print(author, author_publication_counter[author])"
   ]
  },
  {
   "cell_type": "markdown",
   "metadata": {},
   "source": [
    "The top 35 authors, in terms of the number of edges contributed to the graph, are displayed below."
   ]
  },
  {
   "cell_type": "code",
   "execution_count": 20,
   "metadata": {},
   "outputs": [
    {
     "data": {
      "text/plain": [
       "[('Parihar MS', 909),\n",
       " ('Brewer GJ', 900),\n",
       " ('Russo C', 639),\n",
       " ('Florio T', 639),\n",
       " ('Nizzari M', 636),\n",
       " ('Pagano A', 595),\n",
       " ('Thellung S', 592),\n",
       " ('Corsaro A', 592),\n",
       " ('Villa V', 592),\n",
       " ('Porcile C', 592),\n",
       " ('Lovestone S', 419),\n",
       " ('de la Monte SM', 383),\n",
       " ('Wands JR', 383),\n",
       " ('Hardy J', 363),\n",
       " ('Williams J', 332),\n",
       " ('Younkin SG', 322),\n",
       " ('Hyman BT', 314),\n",
       " ('Goate AM', 311),\n",
       " ('Cruchaga C', 302),\n",
       " ('Carrasquillo MM', 302),\n",
       " ('Owen MJ', 300),\n",
       " ('Harold D', 290),\n",
       " ('Kauwe JS', 288),\n",
       " ('Schubert M', 286),\n",
       " ('Kehoe PG', 280),\n",
       " ('Freude S', 280),\n",
       " ('Schilbach K', 280),\n",
       " ('Liu Y', 270),\n",
       " ('Heneka MT', 269),\n",
       " ('Sims R', 267),\n",
       " ('Morris JC', 267),\n",
       " ('Love S', 264),\n",
       " ('Gerrish A', 259),\n",
       " ('Nowotny P', 258),\n",
       " ('Brayne C', 254)]"
      ]
     },
     "execution_count": 20,
     "metadata": {},
     "output_type": "execute_result"
    }
   ],
   "source": [
    "author_counter = pbt.summary.count_authors(graph)\n",
    "\n",
    "author_counter.most_common(35)"
   ]
  },
  {
   "cell_type": "markdown",
   "metadata": {},
   "source": [
    "# Apoptosis Signalling Subgraph Summary\n",
    "\n",
    "In this example, the Apopotosis Signalling Subgraph is investigated more closely."
   ]
  },
  {
   "cell_type": "code",
   "execution_count": 21,
   "metadata": {
    "collapsed": true
   },
   "outputs": [],
   "source": [
    "target_subgraph = \"Apoptosis signaling subgraph\""
   ]
  },
  {
   "cell_type": "code",
   "execution_count": 22,
   "metadata": {},
   "outputs": [
    {
     "name": "stdout",
     "output_type": "stream",
     "text": [
      "Nodes: 128\n",
      "Edges: 202\n",
      "Citations: 58\n",
      "Authors: 426\n",
      "Network density: 0.012426181102362205\n",
      "Components: 11\n",
      "Average degree: 1.578125\n"
     ]
    }
   ],
   "source": [
    "subgraph = pbt.selection.get_subgraph_by_annotation_value(\n",
    "    graph, annotation=\"Subgraph\", value=target_subgraph\n",
    ")\n",
    "\n",
    "pbt.summary.print_summary(subgraph)"
   ]
  },
  {
   "cell_type": "markdown",
   "metadata": {},
   "source": [
    "The unique citations for every pair of nodes is calculated. This helps to remove the bias from edges that have many notations and have a cartesian explosion. This process can be repeated with [pbt.summary.count_pmids](http://pybel-tools.readthedocs.io/en/latest/summary.html#pybel_tools.summary.count_pmids)."
   ]
  },
  {
   "cell_type": "code",
   "execution_count": 23,
   "metadata": {},
   "outputs": [
    {
     "name": "stdout",
     "output_type": "stream",
     "text": [
      "https://www.ncbi.nlm.nih.gov/pubmed/19499146\t27\tActa biochimica et biophysica Sinica\n",
      "https://www.ncbi.nlm.nih.gov/pubmed/22496686\t11\tJournal of toxicology\n",
      "https://www.ncbi.nlm.nih.gov/pubmed/17869087\t7\tThe Journal of nutritional biochemistry\n",
      "https://www.ncbi.nlm.nih.gov/pubmed/16153637\t7\tEuropean journal of pharmacology\n",
      "https://www.ncbi.nlm.nih.gov/pubmed/19918364\t6\tPloS one\n",
      "https://www.ncbi.nlm.nih.gov/pubmed/11592846\t6\tNeurobiology of disease\n",
      "https://www.ncbi.nlm.nih.gov/pubmed/12548636\t6\tProteomics\n",
      "https://www.ncbi.nlm.nih.gov/pubmed/14744432\t5\tCell\n",
      "https://www.ncbi.nlm.nih.gov/pubmed/18997293\t4\tJournal of Alzheimer's disease : JAD\n",
      "https://www.ncbi.nlm.nih.gov/pubmed/22236693\t4\tJournal of negative results in biomedicine\n",
      "https://www.ncbi.nlm.nih.gov/pubmed/17316167\t4\tCurrent Alzheimer research\n",
      "https://www.ncbi.nlm.nih.gov/pubmed/19734902\t4\tNature genetics\n",
      "https://www.ncbi.nlm.nih.gov/pubmed/22122372\t4\tJournal of neurochemistry\n",
      "https://www.ncbi.nlm.nih.gov/pubmed/20847424\t4\tJournal of Alzheimer's disease : JAD\n",
      "https://www.ncbi.nlm.nih.gov/pubmed/22523685\t3\tJournal of aging research\n",
      "https://www.ncbi.nlm.nih.gov/pubmed/15671026\t3\tThe Journal of biological chemistry\n",
      "https://www.ncbi.nlm.nih.gov/pubmed/18782350\t3\tAging cell\n",
      "https://www.ncbi.nlm.nih.gov/pubmed/22235318\t3\tPloS one\n",
      "https://www.ncbi.nlm.nih.gov/pubmed/22433871\t3\tThe Journal of biological chemistry\n",
      "https://www.ncbi.nlm.nih.gov/pubmed/19596284\t3\tChemico-biological interactions\n",
      "https://www.ncbi.nlm.nih.gov/pubmed/21490080\t3\tPerfusion\n",
      "https://www.ncbi.nlm.nih.gov/pubmed/10662829\t2\tThe Journal of neuroscience : the official journal of the Society for Neuroscience\n",
      "https://www.ncbi.nlm.nih.gov/pubmed/10371197\t2\tFEBS letters\n",
      "https://www.ncbi.nlm.nih.gov/pubmed/11744168\t2\tBrain research. Molecular brain research\n",
      "https://www.ncbi.nlm.nih.gov/pubmed/21945540\t2\tNeurobiology of disease\n",
      "https://www.ncbi.nlm.nih.gov/pubmed/22874667\t2\tPrion\n",
      "https://www.ncbi.nlm.nih.gov/pubmed/11432833\t2\tThe EMBO journal\n",
      "https://www.ncbi.nlm.nih.gov/pubmed/18718604\t2\tThe Journal of surgical research\n",
      "https://www.ncbi.nlm.nih.gov/pubmed/21893081\t2\tPharmacology, biochemistry, and behavior\n",
      "https://www.ncbi.nlm.nih.gov/pubmed/16303979\t2\tInvestigative ophthalmology &amp; visual science\n",
      "https://www.ncbi.nlm.nih.gov/pubmed/22223749\t2\tFASEB journal : official publication of the Federation of American Societies for Experimental Biology\n",
      "https://www.ncbi.nlm.nih.gov/pubmed/11400916\t2\tLife sciences\n",
      "https://www.ncbi.nlm.nih.gov/pubmed/16243823\t2\tClinical cancer research : an official journal of the American Association for Cancer Research\n",
      "https://www.ncbi.nlm.nih.gov/pubmed/22249458\t1\tJournal of neuropathology and experimental neurology\n",
      "https://www.ncbi.nlm.nih.gov/pubmed/17213958\t1\tActa biochimica et biophysica Sinica\n"
     ]
    }
   ],
   "source": [
    "citations = defaultdict(set)\n",
    "\n",
    "for u, v, d in subgraph.edges_iter(data=True):\n",
    "    c = d[CITATION]\n",
    "    citations[u, v].add((c[CITATION_TYPE], c[CITATION_REFERENCE], c[CITATION_NAME]))\n",
    "\n",
    "counter = Counter(itt.chain.from_iterable(citations.values()))\n",
    "\n",
    "for (_, pmid, name), v in counter.most_common(35):\n",
    "    print(\n",
    "        \"https://www.ncbi.nlm.nih.gov/pubmed/{}\\t{}\\t{}\".format(\n",
    "            int(pmid.strip()), v, name\n",
    "        )\n",
    "    )"
   ]
  },
  {
   "cell_type": "markdown",
   "metadata": {},
   "source": [
    "# Conclusions\n",
    "\n",
    "While BEL documents are a repository for biological knowledge, they also provide insight into the most prolific authors and highest information-density papers. After making this information readily available through the functions provided in PyBEL Tools, other tools that handle citation networks could be integrated and utilities like [SCAIView](http://www.scaiview.com/) could be further leveraged to identify which publications would have the highest potential to improve the content of the network."
   ]
  }
 ],
 "metadata": {
  "kernelspec": {
   "display_name": "Python 3",
   "language": "python",
   "name": "python3"
  },
  "language_info": {
   "codemirror_mode": {
    "name": "ipython",
    "version": 3
   },
   "file_extension": ".py",
   "mimetype": "text/x-python",
   "name": "python",
   "nbconvert_exporter": "python",
   "pygments_lexer": "ipython3",
   "version": "3.6.2"
  }
 },
 "nbformat": 4,
 "nbformat_minor": 2
}
