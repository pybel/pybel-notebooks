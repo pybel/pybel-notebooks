{
 "cells": [
  {
   "cell_type": "markdown",
   "metadata": {},
   "source": [
    "# BEL to Natural Language\n",
    "\n",
    "**Author:** [Charles Tapley Hoyt](https://github.com/cthoyt/)\n",
    "\n",
    "**Estimated Run Time:** 5 seconds\n",
    "\n",
    "This notebook shows how the PyBEL-INDRA integration can be used to turn a BEL graph into natural language. Special thanks to John Bachman and Ben Gyori for all of their efforts in making this possible.\n",
    "\n",
    "To view the interactive Javascript output in this notebook, open in the [Jupyter NBViewer](http://nbviewer.jupyter.org/github/pybel/pybel-notebooks/blob/master/BEL%20to%20Natural%20Language.ipynb)."
   ]
  },
  {
   "cell_type": "markdown",
   "metadata": {},
   "source": [
    "## Imports"
   ]
  },
  {
   "cell_type": "code",
   "execution_count": 1,
   "metadata": {},
   "outputs": [],
   "source": [
    "import sys\n",
    "import time\n",
    "\n",
    "import indra\n",
    "import indra.util.get_version\n",
    "import ndex2\n",
    "import pybel\n",
    "\n",
    "from indra.assemblers.english import EnglishAssembler\n",
    "from indra.sources.bel.api import process_pybel_graph\n",
    "\n",
    "from pybel.examples import sialic_acid_graph\n",
    "from pybel_tools.visualization import to_jupyter"
   ]
  },
  {
   "cell_type": "markdown",
   "metadata": {},
   "source": [
    "## Environment"
   ]
  },
  {
   "cell_type": "code",
   "execution_count": 2,
   "metadata": {},
   "outputs": [
    {
     "name": "stdout",
     "output_type": "stream",
     "text": [
      "3.6.3 (default, Oct  9 2017, 09:47:56) \n",
      "[GCC 4.2.1 Compatible Apple LLVM 9.0.0 (clang-900.0.37)]\n"
     ]
    }
   ],
   "source": [
    "print(sys.version)"
   ]
  },
  {
   "cell_type": "code",
   "execution_count": 3,
   "metadata": {},
   "outputs": [
    {
     "name": "stdout",
     "output_type": "stream",
     "text": [
      "Thu Mar 15 13:55:44 2018\n"
     ]
    }
   ],
   "source": [
    "print(time.asctime())"
   ]
  },
  {
   "cell_type": "markdown",
   "metadata": {},
   "source": [
    "## Dependencies"
   ]
  },
  {
   "cell_type": "code",
   "execution_count": 4,
   "metadata": {},
   "outputs": [
    {
     "data": {
      "text/plain": [
       "'0.11.2-dev'"
      ]
     },
     "execution_count": 4,
     "metadata": {},
     "output_type": "execute_result"
    }
   ],
   "source": [
    "pybel.utils.get_version()"
   ]
  },
  {
   "cell_type": "code",
   "execution_count": 5,
   "metadata": {},
   "outputs": [
    {
     "data": {
      "text/plain": [
       "\"1.5.0-b'dcf2f45592f9c96b58622f42ba58ca342157488d'\""
      ]
     },
     "execution_count": 5,
     "metadata": {},
     "output_type": "execute_result"
    }
   ],
   "source": [
    "indra.util.get_version.get_version()"
   ]
  },
  {
   "cell_type": "markdown",
   "metadata": {},
   "source": [
    "# Data\n",
    "\n",
    "The [Sialic Acid graph](http://pybel.readthedocs.io/en/latest/examples.html#pybel.examples.sialic_acid_example.pybel.examples.sialic_acid_graph) is used as an example."
   ]
  },
  {
   "cell_type": "code",
   "execution_count": 6,
   "metadata": {},
   "outputs": [
    {
     "data": {
      "application/javascript": [
       "function init_d3_force(d3, graph, chart, width, height, function_colors) {\n",
       "    var focus_node = null;\n",
       "    var highlight_node = null;\n",
       "\n",
       "    // Highlight color variables\n",
       "\n",
       "    // Highlight color of the node boundering\n",
       "    const highlight_node_boundering = \"#4EB2D4\";\n",
       "\n",
       "    // Highlight color of the edge\n",
       "    const highlighted_link_color = \"#4EB2D4\";\n",
       "\n",
       "    // Text highlight color\n",
       "    const highlight_text = \"#4EB2D4\";\n",
       "\n",
       "    // Size when zooming scale\n",
       "    var size = d3.scalePow().exponent(1)\n",
       "        .domain([1, 100])\n",
       "        .range([8, 24]);\n",
       "\n",
       "    // Simulation parameters\n",
       "    const linkDistance = 100;\n",
       "    const fCharge = -1000;\n",
       "    const linkStrength = 0.7;\n",
       "    const collideStrength = 1;\n",
       "\n",
       "    // Simulation defined with variables\n",
       "    var simulation = d3.forceSimulation()\n",
       "        .force(\"link\", d3.forceLink()\n",
       "            .distance(linkDistance)\n",
       "            .strength(linkStrength)\n",
       "        )\n",
       "        .force(\"collide\", d3.forceCollide()\n",
       "            .radius(function (d) {\n",
       "                return d.r + 10\n",
       "            })\n",
       "            .strength(collideStrength)\n",
       "        )\n",
       "        .force(\"charge\", d3.forceManyBody()\n",
       "            .strength(fCharge)\n",
       "        )\n",
       "        .force(\"center\", d3.forceCenter(width / 2, height / 2))\n",
       "        .force(\"y\", d3.forceY(0))\n",
       "        .force(\"x\", d3.forceX(0));\n",
       "\n",
       "    // Pin down functionality\n",
       "    var node_drag = d3.drag()\n",
       "        .on(\"start\", dragstarted)\n",
       "        .on(\"drag\", dragged)\n",
       "        .on(\"end\", dragended);\n",
       "\n",
       "    function dragstarted(d) {\n",
       "        if (!d3.event.active) simulation.alphaTarget(0.3).restart();\n",
       "        d.fx = d.x;\n",
       "        d.fy = d.y;\n",
       "    }\n",
       "\n",
       "    function dragged(d) {\n",
       "        d.fx = d3.event.x;\n",
       "        d.fy = d3.event.y;\n",
       "    }\n",
       "\n",
       "    function dragended(d) {\n",
       "        if (!d3.event.active) simulation.alphaTarget(0);\n",
       "    }\n",
       "\n",
       "    function releasenode(d) {\n",
       "        d.fx = null;\n",
       "        d.fy = null;\n",
       "    }\n",
       "\n",
       "    //END Pin down functionality\n",
       "\n",
       "    const color_circunferencia = \"black\";\n",
       "    const default_link_color = \"#AAAAAA\";\n",
       "    const nominal_base_node_size = 8;\n",
       "\n",
       "    // Normal and highlighted stroke of the links (double the width of the link when highlighted)\n",
       "    const nominal_stroke = 1.5;\n",
       "\n",
       "    // Zoom variables\n",
       "    const min_zoom = 0.1;\n",
       "    const max_zoom = 10;\n",
       "    const border = 1;\n",
       "    const bordercolor = 'black';\n",
       "\n",
       "    var svg = d3.select(chart).append(\"svg\")\n",
       "        .attr(\"width\", width)\n",
       "        .attr(\"height\", height);\n",
       "\n",
       "    // // Create definition for arrowhead.\n",
       "    svg.append(\"defs\").append(\"marker\")\n",
       "        .attr(\"id\", \"arrowhead\")\n",
       "        .attr(\"viewBox\", \"0 -5 10 10\")\n",
       "        .attr(\"refX\", 20)\n",
       "        .attr(\"refY\", 0)\n",
       "        .attr(\"markerUnits\", \"strokeWidth\")\n",
       "        .attr(\"markerWidth\", 6)\n",
       "        .attr(\"markerHeight\", 6)\n",
       "        .attr(\"orient\", \"auto\")\n",
       "        .append(\"path\")\n",
       "        .attr(\"d\", \"M0,-5L10,0L0,5\");\n",
       "\n",
       "    // // Create definition for stub.\n",
       "    svg.append(\"defs\").append(\"marker\")\n",
       "        .attr(\"id\", \"stub\")\n",
       "        .attr(\"viewBox\", \"-1 -5 2 10\")\n",
       "        .attr(\"refX\", 15)\n",
       "        .attr(\"refY\", 0)\n",
       "        .attr(\"markerUnits\", \"strokeWidth\")\n",
       "        .attr(\"markerWidth\", 6)\n",
       "        .attr(\"markerHeight\", 6)\n",
       "        .attr(\"orient\", \"auto\")\n",
       "        .append(\"path\")\n",
       "        .attr(\"d\", \"M 0,0 m -1,-5 L 1,-5 L 1,5 L -1,5 Z\");\n",
       "\n",
       "    // Background\n",
       "    svg.append(\"rect\")\n",
       "        .attr(\"width\", \"100%\")\n",
       "        .attr(\"height\", \"100%\")\n",
       "        .attr(\"fill\", \"#ffffff\")\n",
       "        .style(\"pointer-events\", \"all\")\n",
       "        // Zoom + panning functionality\n",
       "        .call(d3.zoom()\n",
       "            .scaleExtent([min_zoom, max_zoom])\n",
       "            .on(\"zoom\", zoomed))\n",
       "        .on(\"dblclick.zoom\", null);\n",
       "\n",
       "\n",
       "    function zoomed() {\n",
       "        g.attr(\"transform\", d3.event.transform);\n",
       "    }\n",
       "\n",
       "    // g = svg object where the graph will be appended\n",
       "    var g = svg.append(\"g\");\n",
       "\n",
       "    var linkedByIndex = {};\n",
       "    graph.links.forEach(function (d) {\n",
       "        linkedByIndex[d.source + \",\" + d.target] = true;\n",
       "    });\n",
       "\n",
       "    function isConnected(a, b) {\n",
       "        return linkedByIndex[a.index + \",\" + b.index] || linkedByIndex[b.index + \",\" + a.index] || a.index == b.index;\n",
       "    }\n",
       "\n",
       "    function ticked() {\n",
       "        link.attr(\"x1\", function (d) {\n",
       "            return d.source.x;\n",
       "        })\n",
       "            .attr(\"y1\", function (d) {\n",
       "                return d.source.y;\n",
       "            })\n",
       "            .attr(\"x2\", function (d) {\n",
       "                return d.target.x;\n",
       "            })\n",
       "            .attr(\"y2\", function (d) {\n",
       "                return d.target.y;\n",
       "            });\n",
       "\n",
       "        node\n",
       "            .attr(\"transform\", function (d) {\n",
       "                return \"translate(\" + d.x + \", \" + d.y + \")\";\n",
       "            });\n",
       "    }\n",
       "\n",
       "\n",
       "    simulation\n",
       "        .nodes(graph.nodes)\n",
       "        .on(\"tick\", ticked);\n",
       "\n",
       "    simulation.force(\"link\")\n",
       "        .links(graph.links);\n",
       "\n",
       "    // Definition of links nodes text...\n",
       "\n",
       "    var link = g.selectAll(\".link\")\n",
       "        .data(graph.links)\n",
       "        .enter().append(\"line\")\n",
       "        .style(\"stroke-width\", nominal_stroke)\n",
       "        .style(\"stroke\", default_link_color)\n",
       "        .style(\"stroke-dasharray\", function (d) {\n",
       "            if (['decreases', 'directlyDecreases', 'increases', 'directlyIncreases', 'negativeCorrelation',\n",
       "                    'positiveCorrelation'].indexOf(d.relation) >= 0) {\n",
       "                return \"none\"\n",
       "            } else {\n",
       "                return \"4, 4\"\n",
       "            }\n",
       "        })\n",
       "        .attr(\"marker-start\", function (d) {\n",
       "            if ('positiveCorrelation' == d.relation) {\n",
       "                return \"url(#arrowhead)\"\n",
       "            }\n",
       "            else if ('negativeCorrelation' == d.relation) {\n",
       "                return \"url(#stub)\"\n",
       "            }\n",
       "            else {\n",
       "                return \"\"\n",
       "            }\n",
       "        })\n",
       "        .attr(\"marker-end\", function (d) {\n",
       "            if (['increases', 'directlyIncreases', 'positiveCorrelation'].indexOf(d.relation) >= 0) {\n",
       "                return \"url(#arrowhead)\"\n",
       "            } else if (['decreases', 'directlyDecreases', 'negativeCorrelation'].indexOf(d.relation) >= 0) {\n",
       "                return \"url(#stub)\"\n",
       "            } else {\n",
       "                return \"\"\n",
       "            }\n",
       "        });\n",
       "\n",
       "    var node = g.selectAll(\".nodes\")\n",
       "        .data(graph.nodes)\n",
       "        .enter().append(\"g\")\n",
       "        .attr(\"class\", \"node\")\n",
       "        // Next two lines -> Pin down functionality\n",
       "        .on('dblclick', releasenode)\n",
       "        .call(node_drag);\n",
       "\n",
       "    var circle = node.append(\"path\")\n",
       "        .attr(\"d\", d3.symbol()\n",
       "            .size(function (d) {\n",
       "                return Math.PI * Math.pow(size(d.size) || nominal_base_node_size, 2);\n",
       "            })\n",
       "        )\n",
       "        .attr(\"class\", function (d) {\n",
       "            return d.function\n",
       "        })\n",
       "        .style('fill', function (d) {\n",
       "            return function_colors[d.function]\n",
       "        })\n",
       "        .style(\"stroke-width\", nominal_stroke)\n",
       "        .style(\"stroke\", color_circunferencia);\n",
       "\n",
       "    var text = node.append(\"text\")\n",
       "        .attr(\"class\", \"node-name\")\n",
       "        // .attr(\"id\", nodehashes[d])\n",
       "        .attr(\"fill\", \"black\")\n",
       "        .attr(\"dx\", 12)\n",
       "        .attr(\"dy\", \".35em\")\n",
       "        .text(function (d) {\n",
       "            return d.cname\n",
       "        });\n",
       "\n",
       "    // Highlight on mouseenter and back to normal on mouseout\n",
       "    node.on(\"mouseenter\", function (d) {\n",
       "        set_highlight(d);\n",
       "    })\n",
       "        .on(\"mousedown\", function () {\n",
       "            d3.event.stopPropagation();\n",
       "        }).on(\"mouseout\", function () {\n",
       "        exit_highlight();\n",
       "    });\n",
       "\n",
       "    function exit_highlight() {\n",
       "        highlight_node = null;\n",
       "        if (focus_node === null) {\n",
       "            if (highlight_node_boundering != color_circunferencia) {\n",
       "                circle.style(\"stroke\", color_circunferencia);\n",
       "                text.style(\"fill\", \"black\");\n",
       "                link.style(\"stroke\", default_link_color);\n",
       "            }\n",
       "        }\n",
       "    }\n",
       "\n",
       "    function set_highlight(d) {\n",
       "        if (focus_node !== null) d = focus_node;\n",
       "        highlight_node = d;\n",
       "\n",
       "        if (highlight_node_boundering != color_circunferencia) {\n",
       "            circle.style(\"stroke\", function (o) {\n",
       "                return isConnected(d, o) ? highlight_node_boundering : color_circunferencia;\n",
       "            });\n",
       "            text.style(\"fill\", function (o) {\n",
       "                return isConnected(d, o) ? highlight_text : \"black\";\n",
       "            });\n",
       "            link.style(\"stroke\", function (o) {\n",
       "                return o.source.index == d.index || o.target.index == d.index ? highlighted_link_color : default_link_color;\n",
       "            });\n",
       "        }\n",
       "    }\n",
       "\n",
       "\n",
       "    // Freeze the graph when space is pressed\n",
       "    function freezeGraph() {\n",
       "        // Space button Triggers STOP\n",
       "        if (d3.event.keyCode == 32) {\n",
       "            simulation.stop();\n",
       "        }\n",
       "    }\n",
       "\n",
       "    // Call freezeGraph when a key is pressed, freezeGraph checks whether this key is \"Space\" that triggers the freeze\n",
       "    d3.select(window).on(\"keydown\", freezeGraph);\n",
       "}\n",
       "\n",
       "require.config({\n",
       "    paths: {\n",
       "        d3: '//cdnjs.cloudflare.com/ajax/libs/d3/4.5.0/d3.min'\n",
       "    }\n",
       "});\n",
       "\n",
       "var elementInnerHTML = \"<div id='psafmqxkgvcdzhjt'></div>\";\n",
       "\n",
       "element.append(elementInnerHTML);\n",
       "\n",
       "require(['d3'], function (d3) {\n",
       "    return init_d3_force(d3, {\"directed\": true, \"graph\": {\"annotation_list\": {}, \"annotation_owl\": {}, \"annotation_pattern\": {}, \"annotation_url\": {\"Confidence\": \"https://arty.scai.fraunhofer.de/artifactory/bel/annotation/confidence/confidence-1.0.0.belanno\", \"Species\": \"https://arty.scai.fraunhofer.de/artifactory/bel/annotation/species-taxonomy-id/species-taxonomy-id-20170511.belanno\"}, \"document_metadata\": {\"authors\": \"Charles Tapley Hoyt\", \"contact\": \"charles.hoyt@scai.fraunhofer.de\", \"description\": \"The downstream effects of sialic acid in immune signaling\", \"name\": \"Sialic Acid Graph\", \"version\": \"1.0.0\"}, \"namespace_owl\": {}, \"namespace_pattern\": {}, \"namespace_url\": {\"CHEBI\": \"https://arty.scai.fraunhofer.de/artifactory/bel/namespace/chebi/chebi-20170725.belns\", \"GOBP\": \"https://arty.scai.fraunhofer.de/artifactory/bel/namespace/go-biological-process/go-biological-process-20170725.belns\", \"HGNC\": \"https://arty.scai.fraunhofer.de/artifactory/bel/namespace/hgnc-human-genes/hgnc-human-genes-20170725.belns\"}, \"namespaces_uncached\": [], \"pybel_version\": \"0.11.2-dev\"}, \"links\": [{\"hash\": \"5c97b7279b0629520d436398034ae03aa56eb3daf579c52f9abde69f83be77b8baba92a79168dfcc7a1f417bb0b83ba31a44321ecc47a40794436240e54d46d6\", \"key\": -3, \"relation\": \"hasComponent\", \"source\": 0, \"target\": 1}, {\"hash\": \"86b98f0403a6d7f473c97e4d21e0163201bcc36c9401ceb8ede553b826de5bcefa2450e6cae69aa6f8bcd008eaacdf03a38671dbf17f87949d7c0432c3463a80\", \"key\": -3, \"relation\": \"hasComponent\", \"source\": 0, \"target\": 2}, {\"annotations\": {\"Confidence\": {\"High\": true}, \"Species\": {\"9606\": true}}, \"citation\": {\"reference\": \"26438529\", \"type\": \"PubMed\"}, \"evidence\": \"Sialic acid binding activates CD33, resulting in phosphorylation of the CD33 immunoreceptor tyrosine-based inhibitory motif (ITIM) domains and activation of the SHP-1 and SHP-2 tyrosine phosphatases [66, 67].\", \"hash\": \"da01e08edb4881421bfa8c4e5b10f7ec6d56bf2d9975349d559202b5e0a60ef4dedd66dede881062bc4c35605c038e2a7dec41cb9f58ba90a1daf9583d51bef7\", \"key\": 1, \"object\": {\"modifier\": \"Activity\"}, \"relation\": \"increases\", \"source\": 0, \"target\": 2}, {\"hash\": \"45417b0e98861df9751e6608ebda862e691ff26a75edc9d5d548f71b0c2e3cf6c614ee03e400f072bfc101cf43f92ce98452adc62478b63810b0f631541761c3\", \"key\": -4, \"relation\": \"hasVariant\", \"source\": 2, \"target\": 3}, {\"annotations\": {\"Confidence\": {\"High\": true}, \"Species\": {\"9606\": true}}, \"citation\": {\"reference\": \"26438529\", \"type\": \"PubMed\"}, \"evidence\": \"Sialic acid binding activates CD33, resulting in phosphorylation of the CD33 immunoreceptor tyrosine-based inhibitory motif (ITIM) domains and activation of the SHP-1 and SHP-2 tyrosine phosphatases [66, 67].\", \"hash\": \"68a79d4097da6e308b450f877e8ec1b348c8ff536a615fc1ba8ba965e075ce484b93524f05fa13f2566e6596644e48ba26d8ae6f1718c033535845c376677cac\", \"key\": 1, \"relation\": \"increases\", \"source\": 2, \"subject\": {\"modifier\": \"Activity\"}, \"target\": 3}, {\"annotations\": {\"Confidence\": {\"High\": true}, \"Species\": {\"9606\": true}}, \"citation\": {\"reference\": \"26438529\", \"type\": \"PubMed\"}, \"evidence\": \"Sialic acid binding activates CD33, resulting in phosphorylation of the CD33 immunoreceptor tyrosine-based inhibitory motif (ITIM) domains and activation of the SHP-1 and SHP-2 tyrosine phosphatases [66, 67].\", \"hash\": \"5905bd6e23cda844cdf074d1dd3757c5ea8e179015355bed6637fd4788e9f6fa60422bc92556f73ed84233c30b0cb05a1c6a8e89b573259fd313093b8bd32900\", \"key\": 0, \"object\": {\"effect\": {\"name\": \"phos\", \"namespace\": \"bel\"}, \"modifier\": \"Activity\"}, \"relation\": \"directlyIncreases\", \"source\": 3, \"subject\": {\"modifier\": \"Activity\"}, \"target\": 4}, {\"annotations\": {\"Confidence\": {\"High\": true}, \"Species\": {\"9606\": true}}, \"citation\": {\"reference\": \"26438529\", \"type\": \"PubMed\"}, \"evidence\": \"Sialic acid binding activates CD33, resulting in phosphorylation of the CD33 immunoreceptor tyrosine-based inhibitory motif (ITIM) domains and activation of the SHP-1 and SHP-2 tyrosine phosphatases [66, 67].\", \"hash\": \"d29b6d46d1259529c38b59f32b1a8a028d320aeb2a99fff92bb87e4988d8f6c5cfe69c9bb591a681a0bbe64850a079e38f8e2638c5bf8e97d6020fb12ed1c1c5\", \"key\": 0, \"object\": {\"effect\": {\"name\": \"phos\", \"namespace\": \"bel\"}, \"modifier\": \"Activity\"}, \"relation\": \"directlyIncreases\", \"source\": 3, \"subject\": {\"modifier\": \"Activity\"}, \"target\": 5}, {\"annotations\": {\"Confidence\": {\"High\": true}, \"Species\": {\"9606\": true}}, \"citation\": {\"reference\": \"26438529\", \"type\": \"PubMed\"}, \"evidence\": \"These phosphatases act on multiple substrates, including Syk, to inhibit immune activation [68, 69].  Hence, CD33 activation leads to increased SHP-1 and SHP-2 activity that antagonizes Syk, inhibiting ITAM-signaling  proteins, possibly including TREM2/DAP12 (Fig. 1, [70, 71]).\", \"hash\": \"69021c0c2e739bb2d5f25298b36c2917d944175b82695bd43835134c768fef853ae0568767b605bea2a0ff26630cf21c3eb979aa3ecd52dd8b2f9468ab485fea\", \"key\": 0, \"object\": {\"modifier\": \"Activity\"}, \"relation\": \"directlyDecreases\", \"source\": 4, \"subject\": {\"modifier\": \"Activity\"}, \"target\": 6}, {\"annotations\": {\"Confidence\": {\"High\": true}, \"Species\": {\"9606\": true}}, \"citation\": {\"reference\": \"26438529\", \"type\": \"PubMed\"}, \"evidence\": \"These phosphatases act on multiple substrates, including Syk, to inhibit immune activation [68, 69].  Hence, CD33 activation leads to increased SHP-1 and SHP-2 activity that antagonizes Syk, inhibiting ITAM-signaling  proteins, possibly including TREM2/DAP12 (Fig. 1, [70, 71]).\", \"hash\": \"abae43a773f5243404f740e321f3aa18db8c7751bb921a2d7081f455fc90ffd1bad8b240a847007b6e243fb928d0e6dceaf4de7715daf64829690ce30a419c6a\", \"key\": 0, \"object\": {\"modifier\": \"Activity\"}, \"relation\": \"directlyDecreases\", \"source\": 5, \"subject\": {\"modifier\": \"Activity\"}, \"target\": 6}, {\"annotations\": {\"Confidence\": {\"Low\": true}, \"Species\": {\"9606\": true}}, \"citation\": {\"reference\": \"26438529\", \"type\": \"PubMed\"}, \"evidence\": \"These phosphatases act on multiple substrates, including Syk, to inhibit immune activation [68, 69].  Hence, CD33 activation leads to increased SHP-1 and SHP-2 activity that antagonizes Syk, inhibiting ITAM-signaling  proteins, possibly including TREM2/DAP12 (Fig. 1, [70, 71]).\", \"hash\": \"02ef7e5625aa968b9c5694a2dce906c894721e0e25c528e748dd5418e1128faef4c9ac397d8abd67d474572fdf395acc0d4b57354c79450b8fb28629e1bc13dc\", \"key\": 0, \"object\": {\"modifier\": \"Activity\"}, \"relation\": \"increases\", \"source\": 6, \"subject\": {\"modifier\": \"Activity\"}, \"target\": 7}, {\"annotations\": {\"Confidence\": {\"Low\": true}, \"Species\": {\"9606\": true}}, \"citation\": {\"reference\": \"26438529\", \"type\": \"PubMed\"}, \"evidence\": \"These phosphatases act on multiple substrates, including Syk, to inhibit immune activation [68, 69].  Hence, CD33 activation leads to increased SHP-1 and SHP-2 activity that antagonizes Syk, inhibiting ITAM-signaling  proteins, possibly including TREM2/DAP12 (Fig. 1, [70, 71]).\", \"hash\": \"231eb04ebb34c91dd03c97c2ca77552a25607a471c617fcfc6d3dfbfa3f0c7b012384c0a204cc8b672360636396a685296eaebcdc0784a751f21f4c0712a508c\", \"key\": 0, \"object\": {\"modifier\": \"Activity\"}, \"relation\": \"increases\", \"source\": 6, \"subject\": {\"modifier\": \"Activity\"}, \"target\": 8}], \"multigraph\": true, \"nodes\": [{\"cname\": \"complex(a(CHEBI:\\\"sialic acid\\\"), p(HGNC:CD33))\", \"function\": \"Complex\", \"id\": [\"Complex\", [\"Abundance\", \"CHEBI\", \"sialic acid\"], [\"Protein\", \"HGNC\", \"CD33\"]], \"members\": [{\"cname\": \"sialic acid\", \"function\": \"Abundance\", \"identifier\": \"26667\", \"name\": \"sialic acid\", \"namespace\": \"CHEBI\"}, {\"cname\": \"CD33\", \"function\": \"Protein\", \"identifier\": \"1659\", \"name\": \"CD33\", \"namespace\": \"HGNC\"}]}, {\"cname\": \"sialic acid\", \"function\": \"Abundance\", \"id\": [\"Abundance\", \"CHEBI\", \"sialic acid\"], \"identifier\": \"26667\", \"name\": \"sialic acid\", \"namespace\": \"CHEBI\"}, {\"cname\": \"CD33\", \"function\": \"Protein\", \"id\": [\"Protein\", \"HGNC\", \"CD33\"], \"identifier\": \"1659\", \"name\": \"CD33\", \"namespace\": \"HGNC\"}, {\"cname\": \"p(HGNC:CD33, pmod(Ph))\", \"function\": \"Protein\", \"id\": [\"Protein\", \"HGNC\", \"CD33\", [\"pmod\", [\"bel\", \"Ph\"]]], \"identifier\": \"1659\", \"name\": \"CD33\", \"namespace\": \"HGNC\", \"variants\": [{\"identifier\": {\"name\": \"Ph\", \"namespace\": \"bel\"}, \"kind\": \"pmod\"}]}, {\"cname\": \"PTPN6\", \"function\": \"Protein\", \"id\": [\"Protein\", \"HGNC\", \"PTPN6\"], \"identifier\": \"9658\", \"name\": \"PTPN6\", \"namespace\": \"HGNC\"}, {\"cname\": \"PTPN11\", \"function\": \"Protein\", \"id\": [\"Protein\", \"HGNC\", \"PTPN11\"], \"identifier\": \"9644\", \"name\": \"PTPN11\", \"namespace\": \"HGNC\"}, {\"cname\": \"SYK\", \"function\": \"Protein\", \"id\": [\"Protein\", \"HGNC\", \"SYK\"], \"identifier\": \"11491\", \"name\": \"SYK\", \"namespace\": \"HGNC\"}, {\"cname\": \"TREM2\", \"function\": \"Protein\", \"id\": [\"Protein\", \"HGNC\", \"TREM2\"], \"identifier\": \"17761\", \"name\": \"TREM2\", \"namespace\": \"HGNC\"}, {\"cname\": \"TYROBP\", \"function\": \"Protein\", \"id\": [\"Protein\", \"HGNC\", \"TYROBP\"], \"identifier\": \"12449\", \"name\": \"TYROBP\", \"namespace\": \"HGNC\"}]}, \"#psafmqxkgvcdzhjt\", 1000, 650, {'Protein': '#1F77B4', 'Pathology': '#FF7F0E', 'BiologicalProcess': '#2CA02C', 'miRNA': '#D62728', 'Complex': '#9467bd', 'Composite': '#9467bd', 'Reaction': '#8c564b', 'Gene': '#e377c2', 'Abundance': '#bcbd22', 'RNA': '#17becf'});\n",
       "});"
      ],
      "text/plain": [
       "<IPython.core.display.Javascript object>"
      ]
     },
     "execution_count": 6,
     "metadata": {},
     "output_type": "execute_result"
    }
   ],
   "source": [
    "to_jupyter(sialic_acid_graph)"
   ]
  },
  {
   "cell_type": "markdown",
   "metadata": {},
   "source": [
    "# Conversion\n",
    "\n",
    "The PyBEL BELGraph instance is converted to INDRA statments with the function [`process_pybel_graph`](http://indra.readthedocs.io/en/latest/modules/sources/bel/index.html#indra.sources.bel.bel_api.process_pybel_graph). It returns an instance of [`PybelProcessor`](`http://indra.readthedocs.io/en/latest/modules/sources/bel/index.html#module-indra.sources.bel.pybel_processor`), which stores the INDRA statments."
   ]
  },
  {
   "cell_type": "code",
   "execution_count": 7,
   "metadata": {},
   "outputs": [
    {
     "name": "stderr",
     "output_type": "stream",
     "text": [
      "INFO: [2018-03-15 13:55:44] indra/pybel_processor - Unable to get identifier information for node: a(CHEBI:\"sialic acid\")\n",
      "INFO: [2018-03-15 13:55:44] indra/pybel_processor - Unable to get identifier information for node: a(CHEBI:\"sialic acid\")\n"
     ]
    },
    {
     "name": "stdout",
     "output_type": "stream",
     "text": [
      "Unhandled namespace with identifier: CHEBI: sialic acid (a(CHEBI:\"sialic acid\"))\n",
      "Unhandled namespace with identifier: CHEBI: sialic acid (a(CHEBI:\"sialic acid\"))\n"
     ]
    }
   ],
   "source": [
    "pbp = process_pybel_graph(sialic_acid_graph)"
   ]
  },
  {
   "cell_type": "markdown",
   "metadata": {},
   "source": [
    "A list of INDRA statements is extracted from the BEL graph and stored in the field [`PybelProcessor.statements`](http://indra.readthedocs.io/en/latest/modules/sources/bel/index.html#indra.sources.bel.pybel_processor.PybelProcessor.statements). Note that INDRA is built to consider mechanistic information, and therefore excludes most associative relationships."
   ]
  },
  {
   "cell_type": "code",
   "execution_count": 8,
   "metadata": {
    "scrolled": true
   },
   "outputs": [
    {
     "data": {
      "text/plain": [
       "[Phosphorylation(CD33(activity), CD33()),\n",
       " Activation(CD33(mods: (phosphorylation), activity), PTPN6(), phosphatase),\n",
       " Activation(CD33(mods: (phosphorylation), activity), PTPN11(), phosphatase),\n",
       " Inhibition(PTPN6(activity), SYK()),\n",
       " Inhibition(PTPN11(activity), SYK()),\n",
       " Activation(SYK(activity), TREM2()),\n",
       " Activation(SYK(activity), TYROBP())]"
      ]
     },
     "execution_count": 8,
     "metadata": {},
     "output_type": "execute_result"
    }
   ],
   "source": [
    "stmts = pbp.statements\n",
    "stmts"
   ]
  },
  {
   "cell_type": "markdown",
   "metadata": {},
   "source": [
    "The list of INDRA statements is converted to plain english using the [`EnglishAssembler`](http://indra.readthedocs.io/en/latest/modules/assemblers/english_assembler.html#indra.assemblers.english_assembler.EnglishAssembler)."
   ]
  },
  {
   "cell_type": "code",
   "execution_count": 9,
   "metadata": {},
   "outputs": [
    {
     "name": "stdout",
     "output_type": "stream",
     "text": [
      "Active CD33 leads to the phosphorylation of CD33. Active phosphorylated CD33 activates PTPN6. Active phosphorylated CD33 activates PTPN11. Active PTPN6 inhibits SYK. Active PTPN11 inhibits SYK. Active SYK activates TREM2. Active SYK activates TYROBP.\n"
     ]
    }
   ],
   "source": [
    "asm = EnglishAssembler(stmts)\n",
    "print(asm.make_model(), sep='\\n')"
   ]
  },
  {
   "cell_type": "markdown",
   "metadata": {},
   "source": [
    "# Conclusion\n",
    "\n",
    "While knowledge assembly is indeed difficult and precarious, the true scientific task is to use them to generate mechanistic hypotheses. By far, the most common way is for a scientist to use their intution and choose an explanatory subgraph or pathway. This notebook has demonstrated that after this has been done, the results can be serialized to english prose in a precise manner."
   ]
  }
 ],
 "metadata": {
  "kernelspec": {
   "display_name": "Python 3",
   "language": "python",
   "name": "python3"
  },
  "language_info": {
   "codemirror_mode": {
    "name": "ipython",
    "version": 3
   },
   "file_extension": ".py",
   "mimetype": "text/x-python",
   "name": "python",
   "nbconvert_exporter": "python",
   "pygments_lexer": "ipython3",
   "version": "3.6.3"
  }
 },
 "nbformat": 4,
 "nbformat_minor": 2
}
