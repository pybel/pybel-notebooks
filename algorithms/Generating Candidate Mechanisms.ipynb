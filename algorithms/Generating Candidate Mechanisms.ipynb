{
 "cells": [
  {
   "cell_type": "markdown",
   "metadata": {},
   "source": [
    "# Abstract\n",
    "\n",
    "**Author:** [Charles Tapley Hoyt](https://github.com/cthoyt)\n",
    "\n",
    "**Estimated Run Time:** 5 minutes\n",
    "\n",
    "This notebooks outlines the process of generating unbiased candidate mechanisms and comparing them to the dogmatic mechanisms from the [NeuroMMSig Knowledge Base](http://neurommsig.scai.fraunhofer.de/)."
   ]
  },
  {
   "cell_type": "markdown",
   "metadata": {},
   "source": [
    "### Notebook Imports"
   ]
  },
  {
   "cell_type": "code",
   "execution_count": 1,
   "metadata": {
    "collapsed": true
   },
   "outputs": [],
   "source": [
    "import logging\n",
    "import itertools as itt\n",
    "import os\n",
    "import time\n",
    "from collections import defaultdict\n",
    "from operator import itemgetter\n",
    "\n",
    "import matplotlib.pyplot as plt\n",
    "import numpy as np\n",
    "import pandas as pd\n",
    "import seaborn as sns\n",
    "from matplotlib_venn import venn2\n",
    "\n",
    "import pybel\n",
    "import pybel_tools as pbt\n",
    "from pybel.canonicalize import calculate_canonical_name\n",
    "from pybel.constants import *\n",
    "from pybel_tools.visualization import to_jupyter"
   ]
  },
  {
   "cell_type": "code",
   "execution_count": 2,
   "metadata": {
    "collapsed": true
   },
   "outputs": [],
   "source": [
    "#%config InlineBackend.figure_format = 'svg'\n",
    "%matplotlib inline"
   ]
  },
  {
   "cell_type": "markdown",
   "metadata": {},
   "source": [
    "### Notebook Provenance\n",
    "\n",
    "The time of execution, random number generator seed, and the versions of the software packegs used are displayed explicitly."
   ]
  },
  {
   "cell_type": "code",
   "execution_count": 3,
   "metadata": {},
   "outputs": [
    {
     "data": {
      "text/plain": [
       "'Sun Aug 27 12:16:43 2017'"
      ]
     },
     "execution_count": 3,
     "metadata": {},
     "output_type": "execute_result"
    }
   ],
   "source": [
    "time.asctime()"
   ]
  },
  {
   "cell_type": "code",
   "execution_count": 4,
   "metadata": {
    "collapsed": true
   },
   "outputs": [],
   "source": [
    "# seed the random number generator\n",
    "import random\n",
    "\n",
    "random.seed(127)"
   ]
  },
  {
   "cell_type": "code",
   "execution_count": 5,
   "metadata": {},
   "outputs": [
    {
     "data": {
      "text/plain": [
       "'0.7.3-dev'"
      ]
     },
     "execution_count": 5,
     "metadata": {},
     "output_type": "execute_result"
    }
   ],
   "source": [
    "pybel.__version__"
   ]
  },
  {
   "cell_type": "code",
   "execution_count": 6,
   "metadata": {},
   "outputs": [
    {
     "data": {
      "text/plain": [
       "'0.2.2-dev'"
      ]
     },
     "execution_count": 6,
     "metadata": {},
     "output_type": "execute_result"
    }
   ],
   "source": [
    "pbt.__version__"
   ]
  },
  {
   "cell_type": "markdown",
   "metadata": {},
   "source": [
    "### Local Path Definitions\n",
    "\n",
    "To make this notebook interoperable across many machines, locations to the repositories that contain the data used in this notebook are referenced from the environment, set in `~/.bashrc` to point to the place where the repositories have been cloned. Assuming the repositories have been `git clone`'d into the `~/dev` folder, the entries in `~/.bashrc` should look like:\n",
    "\n",
    "```bash\n",
    "...\n",
    "export BMS_BASE=~/dev/bms\n",
    "...\n",
    "```\n",
    "\n",
    "#### BMS \n",
    "\n",
    "The biological model store (BMS) is the internal Fraunhofer SCAI repository for keeping BEL models under version control. It can be downloaded from https://tor-2.scai.fraunhofer.de/gf/project/bms/"
   ]
  },
  {
   "cell_type": "code",
   "execution_count": 7,
   "metadata": {
    "collapsed": true
   },
   "outputs": [],
   "source": [
    "bms_base = os.environ[\"BMS_BASE\"]"
   ]
  },
  {
   "cell_type": "markdown",
   "metadata": {},
   "source": [
    "## Alzheimer's Disease Knowledge Assembly\n",
    "\n",
    "The Alzheimer's Disease knowledge assembly has been precompiled with the following command line script, and will be loaded from this format for improved performance. In general, derived data, such as the gpickle representation of a BEL script, are not saved under version control to ensure that the most up-to-date data is always used.\n",
    "\n",
    "```sh\n",
    "pybel convert --path \"$BMS_BASE/aetionomy/alzheimers.bel\" --pickle \"$BMS_BASE/aetionomy/alzheimers.gpickle\"\n",
    "```\n",
    "\n",
    "The BEL script can also be compiled from inside this notebook with the following python code:\n",
    "\n",
    "```python\n",
    ">>> import os\n",
    ">>> import pybel\n",
    ">>> # Input from BEL script\n",
    ">>> bel_path = os.path.join(bms_base, 'aetionomy', 'alzheimers.bel')\n",
    ">>> graph = pybel.from_path(bel_path)\n",
    ">>> # Output to gpickle for fast loading later\n",
    ">>> pickle_path = os.path.join(bms_base, 'aetionomy', 'alzheimers.gpickle')\n",
    ">>> pybel.to_pickle(graph, pickle_path)\n",
    "```"
   ]
  },
  {
   "cell_type": "code",
   "execution_count": 8,
   "metadata": {
    "collapsed": true
   },
   "outputs": [],
   "source": [
    "pickle_path = os.path.join(bms_base, \"aetionomy\", \"alzheimers\", \"alzheimers.gpickle\")"
   ]
  },
  {
   "cell_type": "code",
   "execution_count": 9,
   "metadata": {
    "collapsed": true
   },
   "outputs": [],
   "source": [
    "graph = pybel.from_pickle(pickle_path)"
   ]
  },
  {
   "cell_type": "code",
   "execution_count": 10,
   "metadata": {},
   "outputs": [
    {
     "data": {
      "text/plain": [
       "'4.0.3'"
      ]
     },
     "execution_count": 10,
     "metadata": {},
     "output_type": "execute_result"
    }
   ],
   "source": [
    "graph.version"
   ]
  },
  {
   "cell_type": "markdown",
   "metadata": {},
   "source": [
    "## Summary of Subgraphs and Biological Processes"
   ]
  },
  {
   "cell_type": "markdown",
   "metadata": {},
   "source": [
    "The unique values for the subgraph annotation are extracted and counted."
   ]
  },
  {
   "cell_type": "code",
   "execution_count": 11,
   "metadata": {
    "collapsed": true
   },
   "outputs": [],
   "source": [
    "subgraph_names = sorted(pbt.summary.get_annotation_values(graph, \"Subgraph\"))"
   ]
  },
  {
   "cell_type": "code",
   "execution_count": 12,
   "metadata": {},
   "outputs": [
    {
     "data": {
      "text/plain": [
       "128"
      ]
     },
     "execution_count": 12,
     "metadata": {},
     "output_type": "execute_result"
    }
   ],
   "source": [
    "len(subgraph_names)"
   ]
  },
  {
   "cell_type": "markdown",
   "metadata": {},
   "source": [
    "The biological process nodes are retrieved with [pbt.filters.get_nodes_by_function](http://pybel-tools.readthedocs.io/en/latest/filters.html#pybel_tools.filters.get_nodes_by_function) and counted."
   ]
  },
  {
   "cell_type": "code",
   "execution_count": 13,
   "metadata": {
    "collapsed": true
   },
   "outputs": [],
   "source": [
    "bioprocess_nodes = sorted(pbt.filters.get_nodes_by_function(graph, BIOPROCESS))"
   ]
  },
  {
   "cell_type": "code",
   "execution_count": 14,
   "metadata": {},
   "outputs": [
    {
     "data": {
      "text/plain": [
       "401"
      ]
     },
     "execution_count": 14,
     "metadata": {},
     "output_type": "execute_result"
    }
   ],
   "source": [
    "len(bioprocess_nodes)"
   ]
  },
  {
   "cell_type": "markdown",
   "metadata": {},
   "source": [
    "The BEL graph object is split to multiple BEL graph objects representing each of the subgraphs with [pbt.selection.get_subgraphs_by_annotation](http://pybel-tools.readthedocs.io/en/latest/selection.html#pybel_tools.selection.get_subgraphs_by_annotation)."
   ]
  },
  {
   "cell_type": "code",
   "execution_count": 15,
   "metadata": {},
   "outputs": [],
   "source": [
    "subgraphs = pbt.selection.get_subgraphs_by_annotation(graph, \"Subgraph\")"
   ]
  },
  {
   "cell_type": "markdown",
   "metadata": {},
   "source": [
    "### Biological Processes and Dogmatic Subgraphs\n",
    "\n",
    "This section investigates the questions: which biological processess appear in multiple subgraphs, and which subgraphs contain multiple biological processes?"
   ]
  },
  {
   "cell_type": "markdown",
   "metadata": {},
   "source": [
    "Asking which bioprocesses appear in multiple subgraphs allow us to investigate their upstream controllers. In a knowledge discovery scenario, this could provide evidence of cross-talk."
   ]
  },
  {
   "cell_type": "code",
   "execution_count": 16,
   "metadata": {
    "collapsed": true
   },
   "outputs": [],
   "source": [
    "bp2sg = defaultdict(set)\n",
    "\n",
    "for name, subgraph in subgraphs.items():\n",
    "    for bp in pbt.filters.get_nodes_by_function(subgraph, BIOPROCESS):\n",
    "        bp2sg[bp].add(name)\n",
    "\n",
    "bp2sg = dict(bp2sg)\n",
    "\n",
    "bp2sg_counts = pbt.utils.count_dict_values(bp2sg)"
   ]
  },
  {
   "cell_type": "code",
   "execution_count": 17,
   "metadata": {
    "collapsed": true
   },
   "outputs": [],
   "source": [
    "sg2bp = {\n",
    "    name: set(pbt.filters.get_nodes_by_function(subgraph, BIOPROCESS))\n",
    "    for name, subgraph in subgraphs.items()\n",
    "}\n",
    "\n",
    "sg2bp_counts = pbt.utils.count_dict_values(sg2bp)"
   ]
  },
  {
   "cell_type": "code",
   "execution_count": 18,
   "metadata": {},
   "outputs": [
    {
     "data": {
      "image/png": "[encoded data removed]",
      "text/plain": [
       "<matplotlib.figure.Figure at 0x10ff43780>"
      ]
     },
     "metadata": {},
     "output_type": "display_data"
    }
   ],
   "source": [
    "(\n",
    "    fig,\n",
    "    (lax, rax),\n",
    ") = plt.subplots(1, 2, figsize=(10, 3))\n",
    "\n",
    "lax.set_title(\"Promiscuity of Biological Processes\")\n",
    "lax.set_ylabel(\"Frequency\")\n",
    "lax.set_xlabel(\"Subgraphs in which a biological process appears\")\n",
    "lax.hist(list(bp2sg_counts.values()), log=True)\n",
    "\n",
    "rax.set_title(\"Subgraph Specificity\")\n",
    "rax.set_ylabel(\"Frequency\")\n",
    "rax.set_xlabel(\"Member biological processes of a subgraph\")\n",
    "rax.hist(list(sg2bp_counts.values()), log=True)\n",
    "\n",
    "plt.tight_layout()\n",
    "plt.savefig(os.path.join(os.path.expanduser(\"~\"), \"Desktop\", \"sg_comparison.pdf\"))\n",
    "plt.show()"
   ]
  },
  {
   "cell_type": "markdown",
   "metadata": {},
   "source": [
    "The top 25 most frequently biological processes are shown below."
   ]
  },
  {
   "cell_type": "code",
   "execution_count": 19,
   "metadata": {},
   "outputs": [
    {
     "name": "stdout",
     "output_type": "stream",
     "text": [
      "43 GOBP   apoptotic process\n",
      "32 GOBP   neuron death\n",
      "31 GOBP   neuron apoptotic process\n",
      "26 GOBP   cell death\n",
      "25 GOBP   cognition\n"
     ]
    }
   ],
   "source": [
    "for bp, count in bp2sg_counts.most_common(5):\n",
    "    print(\"{:2} {:6} {}\".format(count, graph.node[bp][NAMESPACE], graph.node[bp][NAME]))"
   ]
  },
  {
   "cell_type": "markdown",
   "metadata": {},
   "source": [
    "The top 25 highest biological-process dense subgraphs are shown below."
   ]
  },
  {
   "cell_type": "code",
   "execution_count": 20,
   "metadata": {},
   "outputs": [
    {
     "name": "stdout",
     "output_type": "stream",
     "text": [
      "88 Amyloidogenic subgraph\n",
      "58 Insulin signal transduction\n",
      "43 Tau protein subgraph\n",
      "39 Inflammatory response subgraph\n",
      "35 Non-amyloidogenic subgraph\n"
     ]
    }
   ],
   "source": [
    "for name, count in sg2bp_counts.most_common(5):\n",
    "    print(\"{:2} {}\".format(count, name))"
   ]
  },
  {
   "cell_type": "markdown",
   "metadata": {},
   "source": [
    "### Annotation Landscape\n",
    "\n",
    "The landscape of biological processes' membership to dogmatic subgraphs is shown below.\n",
    "\n",
    "The biological process to dogmatic subgraph membership matrix is calculated, clustered, and plotted below."
   ]
  },
  {
   "cell_type": "code",
   "execution_count": 21,
   "metadata": {
    "collapsed": true
   },
   "outputs": [],
   "source": [
    "sg_bp_membership = defaultdict(dict)\n",
    "sg_bp_membership_bool = defaultdict(dict)\n",
    "\n",
    "for name, bp in itt.product(subgraph_names, bioprocess_nodes):\n",
    "    sg_bp_membership_bool[name][bp] = bp in sg2bp[name]\n",
    "    sg_bp_membership[name][bp] = 1 if bp in sg2bp[name] else 0\n",
    "\n",
    "sg_bp_membership = dict(sg_bp_membership)\n",
    "sg_bp_membership_bool = dict(sg_bp_membership_bool)"
   ]
  },
  {
   "cell_type": "markdown",
   "metadata": {
    "collapsed": true
   },
   "source": [
    "## Generated Unbiased Subgraphs\n",
    "\n",
    "Each subgraph annotation in the NeuroMMSig Database comes from a specific domain of study. While these subgraphs attempt to describe groups of related, dogmatic pathways and are helpful for communicating ideas, they are a discretization of the continuous and inseperable biological system. In this section, we will generate more, smaller candidate subgraphs with an unbiased approach in hopes of providing a more thorough overview of the individual mechanisms in the hollistic system and their interplay or \"cross-talk\". Later, we'll use that information to assess the overlap between dogmatic mechanisms and bridge the gaps between them."
   ]
  },
  {
   "cell_type": "markdown",
   "metadata": {},
   "source": [
    "The candidate mechanisms themselves are generated with [pbt.generation.generate_bioprocess_mechanisms](http://pybel-tools.readthedocs.io/en/latest/generation.html#pybel_tools.generation.generate_bioprocess_mechanisms) by expanding to the upstream controllers around each biological process."
   ]
  },
  {
   "cell_type": "code",
   "execution_count": 22,
   "metadata": {},
   "outputs": [
    {
     "name": "stdout",
     "output_type": "stream",
     "text": [
      "CPU times: user 2.9 s, sys: 50.1 ms, total: 2.95 s\n",
      "Wall time: 2.97 s\n"
     ]
    }
   ],
   "source": [
    "%%time\n",
    "candidate_mechanisms = pbt.generation.generate_bioprocess_mechanisms(graph)"
   ]
  },
  {
   "cell_type": "code",
   "execution_count": 23,
   "metadata": {},
   "outputs": [
    {
     "data": {
      "image/png": "[encoded data removed]",
      "text/plain": [
       "<matplotlib.figure.Figure at 0x110183390>"
      ]
     },
     "metadata": {},
     "output_type": "display_data"
    }
   ],
   "source": [
    "plt.title(\"Histogram of Candidate Mechanism Sizes\")\n",
    "plt.xlabel(\"Number Nodes\")\n",
    "plt.ylabel(\"Frequency\")\n",
    "plt.hist([cm.number_of_nodes() for cm in candidate_mechanisms.values()], log=True)\n",
    "plt.show()"
   ]
  },
  {
   "cell_type": "markdown",
   "metadata": {},
   "source": [
    "## Overlap Summary\n",
    "\n",
    "The Tversky similarity is calculated between the nodes contained in each candidate mechanism versus each dogmatic subgraph. It is weighted to calculate what percentage of the nodes in a candidate mechanism with $\\alpha=1$ and $\\beta=0$."
   ]
  },
  {
   "cell_type": "code",
   "execution_count": 24,
   "metadata": {},
   "outputs": [
    {
     "name": "stdout",
     "output_type": "stream",
     "text": [
      "CPU times: user 5.65 s, sys: 53.5 ms, total: 5.7 s\n",
      "Wall time: 5.75 s\n"
     ]
    }
   ],
   "source": [
    "%%time\n",
    "\n",
    "sg_bp_overlap = defaultdict(dict)\n",
    "\n",
    "for name, bp in itt.product(subgraphs, bioprocess_nodes):\n",
    "    x = set(\n",
    "        pbt.filters.get_nodes_by_function(\n",
    "            candidate_mechanisms[bp], {PROTEIN, BIOPROCESS}\n",
    "        )\n",
    "    )\n",
    "    y = set(subgraphs[name].nodes_iter())\n",
    "\n",
    "    sg_bp_overlap[name][bp] = pbt.utils.set_percentage(x, y)\n",
    "\n",
    "sg_bp_overlap = dict(sg_bp_overlap)"
   ]
  },
  {
   "cell_type": "code",
   "execution_count": 25,
   "metadata": {
    "collapsed": true
   },
   "outputs": [],
   "source": [
    "overlap_df = pd.DataFrame(sg_bp_overlap)\n",
    "overlap_df.to_csv(os.path.expanduser(\"~/Desktop/subgraph_comparison.csv\"))"
   ]
  },
  {
   "cell_type": "code",
   "execution_count": 26,
   "metadata": {
    "scrolled": false
   },
   "outputs": [
    {
     "data": {
      "image/png": "[encoded data removed]",
      "text/plain": [
       "<matplotlib.figure.Figure at 0x1109aa438>"
      ]
     },
     "metadata": {},
     "output_type": "display_data"
    }
   ],
   "source": [
    "plt.title(\"A Histogram of Pairwise Overlap\")\n",
    "plt.xlabel(\"Tversky Similarity ($\\alpha = 1$ and $\\beta = 0$)\")\n",
    "plt.ylabel(\"Frequency\")\n",
    "plt.hist(overlap_df.as_matrix().ravel(), log=True)\n",
    "plt.show()"
   ]
  },
  {
   "cell_type": "markdown",
   "metadata": {},
   "source": [
    "The landscape of overlaps between unbiased candidate mechanisms and dogmatic subgraphs is shown below."
   ]
  },
  {
   "cell_type": "code",
   "execution_count": 27,
   "metadata": {},
   "outputs": [
    {
     "data": {
      "image/png": "[encoded data removed]",
      "text/plain": [
       "<matplotlib.figure.Figure at 0x1109aaf28>"
      ]
     },
     "metadata": {},
     "output_type": "display_data"
    }
   ],
   "source": [
    "overlap_matrix = overlap_df.as_matrix()\n",
    "cg = sns.clustermap(overlap_matrix, figsize=(10, 7))"
   ]
  },
  {
   "cell_type": "code",
   "execution_count": 28,
   "metadata": {},
   "outputs": [
    {
     "data": {
      "text/plain": [
       "<matplotlib.figure.Figure at 0x11113fa58>"
      ]
     },
     "metadata": {},
     "output_type": "display_data"
    }
   ],
   "source": [
    "plt.savefig(os.path.join(os.path.expanduser(\"~\"), \"Desktop\", \"sg_overlaps.pdf\"))\n",
    "plt.show()"
   ]
  },
  {
   "cell_type": "markdown",
   "metadata": {},
   "source": [
    "The overlap similarity matrix is discretized with a cutoff and displayed below."
   ]
  },
  {
   "cell_type": "code",
   "execution_count": 29,
   "metadata": {
    "collapsed": true
   },
   "outputs": [],
   "source": [
    "overlap_cutoff = 0.3"
   ]
  },
  {
   "cell_type": "code",
   "execution_count": 30,
   "metadata": {},
   "outputs": [],
   "source": [
    "overlap_matrix_discrete = overlap_cutoff < overlap_matrix"
   ]
  },
  {
   "cell_type": "code",
   "execution_count": 31,
   "metadata": {},
   "outputs": [
    {
     "data": {
      "image/png": "[encoded data removed]",
      "text/plain": [
       "<matplotlib.figure.Figure at 0x112c60eb8>"
      ]
     },
     "metadata": {},
     "output_type": "display_data"
    }
   ],
   "source": [
    "sns.clustermap(overlap_matrix_discrete, figsize=(10, 7))\n",
    "plt.show()"
   ]
  },
  {
   "cell_type": "markdown",
   "metadata": {},
   "source": [
    "## Concordance Calculations\n",
    "\n",
    "Next, biological processes whose candidate mechanisms have significant overlap with dogmatic subgraphs are annotated to those subgraphs."
   ]
  },
  {
   "cell_type": "code",
   "execution_count": 32,
   "metadata": {
    "collapsed": true
   },
   "outputs": [],
   "source": [
    "#: Keeps track of which biological processes have large overlap with a dogmatic mechanism, but wasn't in it\n",
    "sg_added = {}\n",
    "sg_bp_cutoff_member = defaultdict(dict)\n",
    "\n",
    "for name in subgraph_names:\n",
    "    sg_added[name] = set()\n",
    "    for bp in bioprocess_nodes:\n",
    "\n",
    "        concordance = overlap_cutoff < sg_bp_overlap[name][bp]\n",
    "\n",
    "        sg_bp_cutoff_member[name][bp] = concordance\n",
    "\n",
    "        if bp not in sg2bp[name] and concordance:\n",
    "            sg_added[name].add(bp)"
   ]
  },
  {
   "cell_type": "code",
   "execution_count": 33,
   "metadata": {},
   "outputs": [
    {
     "data": {
      "image/png": "[encoded data removed]",
      "text/plain": [
       "<matplotlib.figure.Figure at 0x110f87ac8>"
      ]
     },
     "metadata": {},
     "output_type": "display_data"
    }
   ],
   "source": [
    "plt.xlabel(\"Number of biological processes added to dogmatic subgraph\")\n",
    "plt.ylabel(\"Frequency\")\n",
    "plt.hist([len(v) for v in sg_added.values()], log=True)\n",
    "plt.show()"
   ]
  },
  {
   "cell_type": "markdown",
   "metadata": {},
   "source": [
    "Similarity values between the set of added biological processes and the set of contained biological processes for each dogmatic mechanism are calculated. \n",
    "\n",
    "Higher similarity means that this approach has lower potential for asserting subgraph expansions, so the values are subtracted from one to preserve monotonicity and improve interpretability."
   ]
  },
  {
   "cell_type": "code",
   "execution_count": 34,
   "metadata": {
    "collapsed": true
   },
   "outputs": [],
   "source": [
    "sg_concordance = {}\n",
    "\n",
    "for name in subgraphs:\n",
    "    x = sg_added[name]\n",
    "    y = {bp for bp in bioprocess_nodes if sg_bp_cutoff_member[name][bp]}\n",
    "\n",
    "    sg_concordance[name] = 1 - pbt.utils.tanimoto_set_similarity(x, y)"
   ]
  },
  {
   "cell_type": "code",
   "execution_count": 35,
   "metadata": {},
   "outputs": [
    {
     "data": {
      "image/png": "[encoded data removed]",
      "text/plain": [
       "<matplotlib.figure.Figure at 0x1135b34a8>"
      ]
     },
     "metadata": {},
     "output_type": "display_data"
    }
   ],
   "source": [
    "plt.ylabel(\"Frequency\")\n",
    "plt.xlabel(\"Potential for adding biological processes not in the dogmatic subgraph\")\n",
    "plt.hist(list(sg_concordance.values()))\n",
    "plt.show()"
   ]
  },
  {
   "cell_type": "markdown",
   "metadata": {},
   "source": [
    "The similarity values correspond to which dogmatic subgraphs have the highest potential for expansion, with higher values corresponding to higher potential."
   ]
  },
  {
   "cell_type": "code",
   "execution_count": 36,
   "metadata": {},
   "outputs": [
    {
     "name": "stdout",
     "output_type": "stream",
     "text": [
      "1.00 Neurotransmitter release subgraph\n",
      "1.00 Nucleoside salvage subgraph\n",
      "1.00 Beta-Oxidation of Fatty Acids\n",
      "1.00 Galanin subgraph\n",
      "1.00 Myeloperoxidase subgraph\n",
      "1.00 p53 stabilization subgraph\n",
      "1.00 Smad subgraph\n",
      "1.00 Glycolysis subgraph\n",
      "1.00 Disaccharide metabolism subgraph\n",
      "1.00 XIAP subgraph\n",
      "1.00 RhoA subgraph\n",
      "1.00 Protein biosynthesis subgraph\n",
      "1.00 Protein degradation subgraph\n",
      "1.00 Dopaminergic subgraph\n",
      "1.00 Alcohol dehydrogenase subgraph\n",
      "1.00 LRRK2 subgraph\n",
      "1.00 Syndecan subgraph\n",
      "0.83 Blood vessel dilation subgraph\n",
      "0.83 Serotonergic subgraph\n",
      "0.67 Reelin signaling subgraph\n",
      "0.67 KANSL1 subgraph\n",
      "0.67 CREB subgraph\n",
      "0.60 DKK1 subgraph\n",
      "0.50 Low density lipoprotein subgraph\n",
      "0.50 Metabolism of steroid hormones subgraph\n",
      "0.50 Retinoblastoma subgraph\n",
      "0.50 Cell-cell communication subgraph\n",
      "0.50 Vitamin subgraph\n",
      "0.48 Tau protein subgraph\n",
      "0.47 Unfolded protein response subgraph\n",
      "0.45 Synaptic vesicle endocytosis subgraph\n",
      "0.44 Electron transport chain\n",
      "0.44 Phosphatidylinositol 3 subgraph\n",
      "0.43 Immunoglobulin subgraph\n",
      "0.42 Insulin signal transduction\n",
      "0.42 Amyloidogenic subgraph\n",
      "0.40 T cells signaling\n",
      "0.40 Hydrogen peroxide subgraph\n",
      "0.40 GABA subgraph\n",
      "0.40 Albumin subgraph\n",
      "0.39 Cyclin-CDK subgraph\n",
      "0.38 Androgen subgraph\n",
      "0.37 Glutamatergic subgraph\n",
      "0.36 Bcl-2 subgraph\n",
      "0.36 Cell cycle subgraph\n",
      "0.36 Inflammatory response subgraph\n",
      "0.35 Chemokine signaling subgraph\n",
      "0.35 Regulation of cytoskeleton subgraph\n",
      "0.33 Response to oxidative stress\n",
      "0.33 Calcium-dependent signal transduction\n",
      "0.33 Lipid metabolism subgraph\n",
      "0.33 Vascular endothelial growth factor subgraph\n",
      "0.33 Synapse assembly subgraph\n",
      "0.33 Innate immune system subgraph\n",
      "0.33 Peroxisome proliferator activated receptor subgraph\n",
      "0.33 CRH subgraph\n",
      "0.33 Axonal guidance subgraph\n",
      "0.33 Wnt signaling subgraph\n",
      "0.33 Leptin subgraph\n",
      "0.33 Glucagon subgraph\n",
      "0.33 Paroxetine subgraph\n",
      "0.32 Acetylcholine signaling subgraph\n",
      "0.32 Endosomal lysosomal subgraph\n",
      "0.32 Ubiquitin degradation subgraph\n",
      "0.31 Neuroprotection subgraph\n",
      "0.31 Cell adhesion subgraph\n",
      "0.31 Autophagy signaling subgraph\n",
      "0.30 APOE subgraph\n",
      "0.30 Cholesterol metabolism subgraph\n",
      "0.29 Cytokine signaling subgraph\n",
      "0.29 Gamma secretase subgraph\n",
      "0.29 Mitochondrial translocation subgraph\n",
      "0.29 Sphingolipid metabolic subgraph\n",
      "0.29 Glutathione reductase subgraph\n",
      "0.28 Nitric oxide subgraph\n",
      "0.27 Matrix metalloproteinase subgraph\n",
      "0.27 Notch signaling subgraph\n",
      "0.27 MAPK-ERK subgraph\n",
      "0.25 DYRK1A subgraph\n",
      "0.25 Hypoxia response subgraph\n",
      "0.25 TGF-Beta subgraph\n",
      "0.24 Caspase subgraph\n",
      "0.23 Non-amyloidogenic subgraph\n",
      "0.22 Axonal transport subgraph\n",
      "0.22 Interleukin signaling subgraph\n",
      "0.22 Calpastatin-calpain subgraph\n",
      "0.21 Reactive oxygen species subgraph\n",
      "0.21 Chaperone subgraph\n",
      "0.20 Tumor necrosis factor subgraph\n",
      "0.20 Nerve growth factor subgraph\n",
      "0.20 Toll like receptor subgraph\n",
      "0.20 ATP binding cassette transport subgraph\n",
      "0.20 Estrogen subgraph\n",
      "0.18 MAPK-JNK subgraph\n",
      "0.18 Akt subgraph\n",
      "0.17 Apoptosis signaling subgraph\n",
      "0.17 GSK3 subgraph\n",
      "0.17 Synuclein subgraph\n",
      "0.16 miRNA subgraph\n",
      "0.14 JAK-STAT signaling subgraph\n",
      "0.13 NMDA receptor\n",
      "0.11 mTOR signaling subgraph\n",
      "0.09 Free radical formation subgraph\n",
      "0.08 Binding and Uptake of Ligands by Scavenger Receptors\n",
      "0.08 Interferon signaling subgraph\n",
      "0.07 ADAM Metallopeptidase subgraph\n",
      "0.07 Beta secretase subgraph\n",
      "0.03 Nuclear factor Kappa beta subgraph\n",
      "0.00 Calsyntenin subgraph\n",
      "0.00 Lipid peroxidation subgraph\n",
      "0.00 Neurotrophic subgraph\n",
      "0.00 Alpha 2 macroglobulin subgraph\n",
      "0.00 Endothelin subgraph\n",
      "0.00 Prostaglandin subgraph\n",
      "0.00 G-protein-mediated signaling\n",
      "0.00 Plasminogen activator subgraph\n",
      "0.00 Eicosanoids signaling subgraph\n",
      "0.00 AD T2DM SNPs\n",
      "0.00 Endoplasmic reticulum-Golgi protein export\n",
      "0.00 Response DNA damage\n",
      "0.00 DNA synthesis\n",
      "0.00 Complement system subgraph\n",
      "0.00 Energy metabolic subgraph\n",
      "0.00 Gap junctions subgraph\n",
      "0.00 Beta-Catenin subgraph\n",
      "0.00 Cortisol subgraph\n",
      "0.00 Renin-angiotensin subgraph\n",
      "0.00 Amylin subgraph\n"
     ]
    }
   ],
   "source": [
    "for dm, concordance in sorted(sg_concordance.items(), key=itemgetter(1), reverse=True):\n",
    "    print(\"{:.2f} {}\".format(concordance, dm))"
   ]
  },
  {
   "cell_type": "markdown",
   "metadata": {},
   "source": [
    "# Conclusions\n",
    "\n",
    "Generating unbiased candidate mechanism subgraphs ultimately provides similar insight as painstakingly curated subgraphs. It is also possible to identify high novelty in candidate mechanisms that have little overlap with curated subgraphs and high scores in data driven approaches."
   ]
  }
 ],
 "metadata": {
  "kernelspec": {
   "display_name": "Python 3",
   "language": "python",
   "name": "python3"
  },
  "language_info": {
   "codemirror_mode": {
    "name": "ipython",
    "version": 3
   },
   "file_extension": ".py",
   "mimetype": "text/x-python",
   "name": "python",
   "nbconvert_exporter": "python",
   "pygments_lexer": "ipython3",
   "version": "3.6.2"
  }
 },
 "nbformat": 4,
 "nbformat_minor": 2
}
